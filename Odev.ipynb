{
  "nbformat": 4,
  "nbformat_minor": 0,
  "metadata": {
    "colab": {
      "provenance": [],
      "name": "Odev.ipynb",
      "authorship_tag": "ABX9TyPkCepUqxDJGIW+gf3tjDBw",
      "include_colab_link": true
    },
    "kernelspec": {
      "name": "python3",
      "display_name": "Python 3"
    },
    "language_info": {
      "name": "python"
    }
  },
  "cells": [
    {
      "cell_type": "markdown",
      "metadata": {
        "id": "view-in-github",
        "colab_type": "text"
      },
      "source": [
        "<a href=\"https://colab.research.google.com/github/emreakbulut06/MachineLearning/blob/main/Odev.ipynb\" target=\"_parent\"><img src=\"https://colab.research.google.com/assets/colab-badge.svg\" alt=\"Open In Colab\"/></a>"
      ]
    },
    {
      "cell_type": "code",
      "execution_count": 2,
      "metadata": {
        "colab": {
          "base_uri": "https://localhost:8080/"
        },
        "id": "z4FzsIvbrhx2",
        "outputId": "89588ab8-c138-4729-9cb3-c447809f6d71"
      },
      "outputs": [
        {
          "output_type": "execute_result",
          "data": {
            "text/plain": [
              "(0.2025453571352361,\n",
              " array([0.6552117 , 0.65265004]),\n",
              " 0.7142857142857143,\n",
              " array([[1.51117864, 1.52756654]]),\n",
              " 0.5849934413526634)"
            ]
          },
          "metadata": {},
          "execution_count": 2
        }
      ],
      "source": [
        "import pandas as pd\n",
        "from sklearn.preprocessing import MinMaxScaler\n",
        "from sklearn.decomposition import PCA\n",
        "from sklearn.discriminant_analysis import LinearDiscriminantAnalysis as LDA\n",
        "from sklearn.model_selection import train_test_split\n",
        "from sklearn.metrics import mean_squared_error, accuracy_score, log_loss\n",
        "from sklearn.linear_model import LinearRegression, LogisticRegression\n",
        "\n",
        "# Veri setini yükleme\n",
        "data_path = 'diabetes.csv'\n",
        "data = pd.read_csv(data_path)\n",
        "\n",
        "# Veri setinin ilk beş satırını göstererek içeriğine bakalım\n",
        "data.head()\n",
        "# Min-Max Normalizasyonu uygulama\n",
        "scaler = MinMaxScaler()\n",
        "X_scaled = scaler.fit_transform(data.drop('Outcome', axis=1))\n",
        "\n",
        "# PCA ve LDA uygulama\n",
        "pca = PCA(n_components=2)  # İki bileşene indirge\n",
        "X_pca = pca.fit_transform(X_scaled)\n",
        "\n",
        "lda = LDA(n_components=1)  # Sadece bir bileşene indirgeyebiliriz çünkü LDA, sınıf sayısından bir eksik bileşene indirger\n",
        "X_lda = lda.fit_transform(X_scaled, data['Outcome'])\n",
        "\n",
        "# PCA ve LDA ile en yüksek değere sahip iki öz değer\n",
        "pca_eigenvalues = pca.explained_variance_ratio_\n",
        "lda_eigenvalues = lda.explained_variance_ratio_ if hasattr(lda, 'explained_variance_ratio_') else \"LDA does not provide eigenvalues directly.\"\n",
        "\n",
        "# PCA ve LDA için en ayırt edici öznitelikler\n",
        "pca_components = pca.components_\n",
        "lda_scalings = lda.scalings_\n",
        "\n",
        "(pca_eigenvalues, lda_eigenvalues, pca_components, lda_scalings)\n",
        "\n",
        "\n",
        "# Veri setini eğitim ve test setlerine ayırma\n",
        "X_train_pca, X_test_pca, y_train, y_test = train_test_split(X_pca, data['Outcome'], test_size=0.3, random_state=42)\n",
        "\n",
        "# Çoklu Doğrusal Regresyon\n",
        "lr_model = LinearRegression()\n",
        "lr_model.fit(X_train_pca, y_train)\n",
        "lr_predictions = lr_model.predict(X_test_pca)\n",
        "lr_mse = mean_squared_error(y_test, lr_predictions)\n",
        "\n",
        "# Multinominal Lojistik Regresyon\n",
        "log_reg_model = LogisticRegression(multi_class='multinomial', solver='lbfgs', max_iter=1000)\n",
        "log_reg_model.fit(X_train_pca, y_train)\n",
        "log_reg_predictions = log_reg_model.predict(X_test_pca)\n",
        "log_reg_accuracy = accuracy_score(y_test, log_reg_predictions)\n",
        "log_reg_log_loss = log_loss(y_test, log_reg_model.predict_proba(X_test_pca))\n",
        "\n",
        "# Katsayıları raporlama\n",
        "lr_coefficients = lr_model.coef_\n",
        "log_reg_coefficients = log_reg_model.coef_\n",
        "\n",
        "(lr_mse, lr_coefficients, log_reg_accuracy, log_reg_coefficients, log_reg_log_loss)\n",
        "\n"
      ]
    }
  ]
}